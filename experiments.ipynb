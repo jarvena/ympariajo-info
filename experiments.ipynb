{
 "metadata": {
  "language_info": {
   "codemirror_mode": {
    "name": "ipython",
    "version": 3
   },
   "file_extension": ".py",
   "mimetype": "text/x-python",
   "name": "python",
   "nbconvert_exporter": "python",
   "pygments_lexer": "ipython3",
   "version": "3.8.2"
  },
  "orig_nbformat": 4,
  "kernelspec": {
   "name": "python3",
   "display_name": "Python 3.8.2  ('ajoinfo': venv)"
  },
  "interpreter": {
   "hash": "d1fdf608eee96f5fba2c7c743c972329059054960baf920c81552be90f133e47"
  }
 },
 "nbformat": 4,
 "nbformat_minor": 2,
 "cells": [
  {
   "cell_type": "code",
   "execution_count": 2,
   "metadata": {},
   "outputs": [],
   "source": [
    "import geopandas as gpd"
   ]
  },
  {
   "cell_type": "code",
   "execution_count": 9,
   "metadata": {},
   "outputs": [],
   "source": [
    "kunnat = gpd.read_file('./data/kunnat.geojson')\n",
    "kunnat[\"Rajaviivan pituus\"] = kunnat[\"Rajaviivan pituus\"] / 1000"
   ]
  },
  {
   "cell_type": "code",
   "execution_count": 10,
   "metadata": {},
   "outputs": [],
   "source": [
    "kunnat.geometry = kunnat.geometry.simplify(tolerance=2, preserve_topology=True)"
   ]
  },
  {
   "cell_type": "code",
   "execution_count": 11,
   "metadata": {},
   "outputs": [],
   "source": [
    "kunnat.to_crs(epsg=4326)\n",
    "kunnat.to_file('./data/kunnatwgs84simplified.geojson', driver='GeoJSON')"
   ]
  }
 ]
}